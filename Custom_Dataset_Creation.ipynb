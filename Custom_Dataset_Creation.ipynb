{
 "cells": [
  {
   "cell_type": "code",
   "execution_count": 1,
   "id": "0246221f-3d52-4846-a8cb-521033384389",
   "metadata": {},
   "outputs": [],
   "source": [
    "import cv2\n",
    "import os\n",
    "import uuid\n",
    "import time"
   ]
  },
  {
   "cell_type": "markdown",
   "id": "a7f356dd-1165-4ae6-bfb7-088ee46c5deb",
   "metadata": {},
   "source": [
    "CREATING A NEW FOLDER \"COLLECTED IMAGES\" WHERE THE CAPTURED IMAGES WILL BE STORED"
   ]
  },
  {
   "cell_type": "code",
   "execution_count": 11,
   "id": "67167d40-5497-4d37-bd09-b04e385e4352",
   "metadata": {},
   "outputs": [],
   "source": [
    "IMAGES_PATH=\"C:/Users/Soumya Sengupta/RealTimeObjectDetectionn/Tensorflow/workspace/images/collectedimages\""
   ]
  },
  {
   "cell_type": "markdown",
   "id": "eb6f5c42-e12e-426c-8e8e-510dad090820",
   "metadata": {},
   "source": [
    "Initialising the labels that will be used in our model. This is just for the project. This can be further expanded when the project is continued in the future"
   ]
  },
  {
   "cell_type": "code",
   "execution_count": 3,
   "id": "91ec46ae-e0c4-4187-8c64-09c07d84a5da",
   "metadata": {},
   "outputs": [],
   "source": [
    "labels=['Hello','Thank_You','Yes','No','I_Love_You']\n",
    "number_of_images=15"
   ]
  },
  {
   "cell_type": "markdown",
   "id": "f6b29900-124a-40c7-8865-e510e2872146",
   "metadata": {},
   "source": [
    "## CAPTURING IMAGES TO FORM OUR OWN CUSTOM DATA"
   ]
  },
  {
   "cell_type": "code",
   "execution_count": 12,
   "id": "d09dd7b1-1861-4098-9fed-763cdb01cee2",
   "metadata": {},
   "outputs": [
    {
     "name": "stdout",
     "output_type": "stream",
     "text": [
      "Main directory absolute path: C:\\Users\\Soumya Sengupta\\RealTimeObjectDetection\\Tensorflow\\workspace\\images\\collectedimages\n",
      "Created main directory: C:\\Users\\Soumya Sengupta\\RealTimeObjectDetection\\Tensorflow\\workspace\\images\\collectedimages\n",
      "Label directory absolute path: C:\\Users\\Soumya Sengupta\\RealTimeObjectDetection\\Tensorflow\\workspace\\images\\collectedimages\\Hello\n",
      "Created label directory: C:\\Users\\Soumya Sengupta\\RealTimeObjectDetection\\Tensorflow\\workspace\\images\\collectedimages\\Hello\n",
      "Collecting images for Hello\n",
      "Label directory absolute path: C:\\Users\\Soumya Sengupta\\RealTimeObjectDetection\\Tensorflow\\workspace\\images\\collectedimages\\Thank_You\n",
      "Created label directory: C:\\Users\\Soumya Sengupta\\RealTimeObjectDetection\\Tensorflow\\workspace\\images\\collectedimages\\Thank_You\n",
      "Collecting images for Thank_You\n",
      "Label directory absolute path: C:\\Users\\Soumya Sengupta\\RealTimeObjectDetection\\Tensorflow\\workspace\\images\\collectedimages\\Yes\n",
      "Created label directory: C:\\Users\\Soumya Sengupta\\RealTimeObjectDetection\\Tensorflow\\workspace\\images\\collectedimages\\Yes\n",
      "Collecting images for Yes\n",
      "Label directory absolute path: C:\\Users\\Soumya Sengupta\\RealTimeObjectDetection\\Tensorflow\\workspace\\images\\collectedimages\\No\n",
      "Created label directory: C:\\Users\\Soumya Sengupta\\RealTimeObjectDetection\\Tensorflow\\workspace\\images\\collectedimages\\No\n",
      "Collecting images for No\n",
      "Label directory absolute path: C:\\Users\\Soumya Sengupta\\RealTimeObjectDetection\\Tensorflow\\workspace\\images\\collectedimages\\I_Love_You\n",
      "Created label directory: C:\\Users\\Soumya Sengupta\\RealTimeObjectDetection\\Tensorflow\\workspace\\images\\collectedimages\\I_Love_You\n",
      "Collecting images for I_Love_You\n"
     ]
    }
   ],
   "source": [
    "# Convert to absolute path and print it\n",
    "IMAGES_PATH = os.path.abspath(IMAGES_PATH)\n",
    "print(f\"Main directory absolute path: {IMAGES_PATH}\")\n",
    "\n",
    "# Create the main directory if it does not exist\n",
    "if not os.path.exists(IMAGES_PATH):\n",
    "    os.makedirs(IMAGES_PATH)\n",
    "    print(f\"Created main directory: {IMAGES_PATH}\")\n",
    "else:\n",
    "    print(f\"Main directory already exists: {IMAGES_PATH}\")\n",
    "\n",
    "for label in labels:\n",
    "    label_path = os.path.join(IMAGES_PATH, label)\n",
    "    \n",
    "    # Convert to absolute path and print it\n",
    "    label_path = os.path.abspath(label_path)\n",
    "    print(f\"Label directory absolute path: {label_path}\")\n",
    "    \n",
    "    # Create label directory if it does not exist\n",
    "    if not os.path.exists(label_path):\n",
    "        os.makedirs(label_path)\n",
    "        print(f\"Created label directory: {label_path}\")\n",
    "    else:\n",
    "        print(f\"Label directory already exists: {label_path}\")\n",
    "    \n",
    "    cap = cv2.VideoCapture(0)  # Initialize webcam\n",
    "    if not cap.isOpened():\n",
    "        print(\"Error: Could not open webcam.\")\n",
    "        continue\n",
    "    \n",
    "    print(f\"Collecting images for {label}\")  # Print the label we are currently capturing\n",
    "    time.sleep(5)  # Give time to get in position to click the picture\n",
    "    \n",
    "    for image_no in range(number_of_images):\n",
    "        ret, frame = cap.read()  # Read the image\n",
    "        if not ret:\n",
    "            print(\"Failed to grab the image\")\n",
    "            break\n",
    "        \n",
    "        image_name = os.path.join(label_path, '{}.jpg'.format(str(uuid.uuid1())))  # Unique path for the captured image\n",
    "        image_name = os.path.abspath(image_name)\n",
    "        cv2.imwrite(image_name, frame)\n",
    "        cv2.imshow(\"frame\", frame)\n",
    "        \n",
    "        time.sleep(1)  # Adjust this duration for smoother capturing\n",
    "        \n",
    "        if cv2.waitKey(1) & 0xFF == 27:  # Escape key to break the loop\n",
    "            print(\"ESCAPE WAS HIT! SIGNING OFF\")\n",
    "            break\n",
    "    \n",
    "    cap.release()\n",
    "    cv2.destroyAllWindows()  # Close the OpenCV window\n",
    "\n",
    "cv2.destroyAllWindows()  # Ensure all OpenCV windows are closed\n"
   ]
  },
  {
   "cell_type": "code",
   "execution_count": null,
   "id": "dbee432e-bc9a-44e5-b4c3-e03c1a75cbb1",
   "metadata": {},
   "outputs": [],
   "source": []
  }
 ],
 "metadata": {
  "kernelspec": {
   "display_name": "YOLOv5 Env",
   "language": "python",
   "name": "yolov5_env"
  },
  "language_info": {
   "codemirror_mode": {
    "name": "ipython",
    "version": 3
   },
   "file_extension": ".py",
   "mimetype": "text/x-python",
   "name": "python",
   "nbconvert_exporter": "python",
   "pygments_lexer": "ipython3",
   "version": "3.8.19"
  }
 },
 "nbformat": 4,
 "nbformat_minor": 5
}
